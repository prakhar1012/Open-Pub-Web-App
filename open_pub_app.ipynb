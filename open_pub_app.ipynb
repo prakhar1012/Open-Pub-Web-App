{
 "cells": [
  {
   "cell_type": "code",
   "execution_count": 1,
   "id": "3f7cb34f",
   "metadata": {},
   "outputs": [],
   "source": [
    "import pandas as pd\n",
    "import numpy as np"
   ]
  },
  {
   "cell_type": "code",
   "execution_count": 2,
   "id": "d1624fed",
   "metadata": {},
   "outputs": [],
   "source": [
    "df = pd.read_csv('open_pubs.csv')"
   ]
  },
  {
   "cell_type": "code",
   "execution_count": 3,
   "id": "4ce30166",
   "metadata": {},
   "outputs": [
    {
     "data": {
      "text/html": [
       "<div>\n",
       "<style scoped>\n",
       "    .dataframe tbody tr th:only-of-type {\n",
       "        vertical-align: middle;\n",
       "    }\n",
       "\n",
       "    .dataframe tbody tr th {\n",
       "        vertical-align: top;\n",
       "    }\n",
       "\n",
       "    .dataframe thead th {\n",
       "        text-align: right;\n",
       "    }\n",
       "</style>\n",
       "<table border=\"1\" class=\"dataframe\">\n",
       "  <thead>\n",
       "    <tr style=\"text-align: right;\">\n",
       "      <th></th>\n",
       "      <th>22</th>\n",
       "      <th>Anchor Inn</th>\n",
       "      <th>Upper Street, Stratford St Mary, COLCHESTER</th>\n",
       "      <th>CO7 6LW</th>\n",
       "      <th>604749</th>\n",
       "      <th>234404</th>\n",
       "      <th>51.970379</th>\n",
       "      <th>0.979340</th>\n",
       "      <th>Babergh</th>\n",
       "    </tr>\n",
       "  </thead>\n",
       "  <tbody>\n",
       "    <tr>\n",
       "      <th>0</th>\n",
       "      <td>36</td>\n",
       "      <td>Ark Bar Restaurant</td>\n",
       "      <td>Ark Bar And Restaurant, Cattawade Street, Bran...</td>\n",
       "      <td>CO11 1RH</td>\n",
       "      <td>610194</td>\n",
       "      <td>233329</td>\n",
       "      <td>51.958698</td>\n",
       "      <td>1.057832</td>\n",
       "      <td>Babergh</td>\n",
       "    </tr>\n",
       "    <tr>\n",
       "      <th>1</th>\n",
       "      <td>74</td>\n",
       "      <td>Black Boy</td>\n",
       "      <td>The Lady Elizabeth, 7 Market Hill, SUDBURY, Su...</td>\n",
       "      <td>CO10 2EA</td>\n",
       "      <td>587334</td>\n",
       "      <td>241316</td>\n",
       "      <td>52.038595</td>\n",
       "      <td>0.729915</td>\n",
       "      <td>Babergh</td>\n",
       "    </tr>\n",
       "    <tr>\n",
       "      <th>2</th>\n",
       "      <td>75</td>\n",
       "      <td>Black Horse</td>\n",
       "      <td>Lower Street, Stratford St Mary, COLCHESTER</td>\n",
       "      <td>CO7 6JS</td>\n",
       "      <td>622675</td>\n",
       "      <td>-5527598</td>\n",
       "      <td>\\N</td>\n",
       "      <td>\\N</td>\n",
       "      <td>Babergh</td>\n",
       "    </tr>\n",
       "    <tr>\n",
       "      <th>3</th>\n",
       "      <td>76</td>\n",
       "      <td>Black Lion</td>\n",
       "      <td>Lion Road, Glemsford, SUDBURY</td>\n",
       "      <td>CO10 7RF</td>\n",
       "      <td>622675</td>\n",
       "      <td>-5527598</td>\n",
       "      <td>\\N</td>\n",
       "      <td>\\N</td>\n",
       "      <td>Babergh</td>\n",
       "    </tr>\n",
       "    <tr>\n",
       "      <th>4</th>\n",
       "      <td>97</td>\n",
       "      <td>Brewers Arms</td>\n",
       "      <td>The Brewers Arms, Bower House Tye, Polstead, C...</td>\n",
       "      <td>CO6 5BZ</td>\n",
       "      <td>598743</td>\n",
       "      <td>240655</td>\n",
       "      <td>52.028694</td>\n",
       "      <td>0.895650</td>\n",
       "      <td>Babergh</td>\n",
       "    </tr>\n",
       "    <tr>\n",
       "      <th>...</th>\n",
       "      <td>...</td>\n",
       "      <td>...</td>\n",
       "      <td>...</td>\n",
       "      <td>...</td>\n",
       "      <td>...</td>\n",
       "      <td>...</td>\n",
       "      <td>...</td>\n",
       "      <td>...</td>\n",
       "      <td>...</td>\n",
       "    </tr>\n",
       "    <tr>\n",
       "      <th>51325</th>\n",
       "      <td>597119</td>\n",
       "      <td>Wrexham &amp; District War Memorial Club Ltd</td>\n",
       "      <td>Wrexham War Memorial Club Farndon Street, Wrex...</td>\n",
       "      <td>LL13 8DE</td>\n",
       "      <td>333909</td>\n",
       "      <td>350438</td>\n",
       "      <td>53.047100</td>\n",
       "      <td>-2.987319</td>\n",
       "      <td>Wrexham</td>\n",
       "    </tr>\n",
       "    <tr>\n",
       "      <th>51326</th>\n",
       "      <td>597127</td>\n",
       "      <td>Wrexham Lager Social Club</td>\n",
       "      <td>1 - 3 Union Road, Wrexham, Wrexham</td>\n",
       "      <td>LL13 7SR</td>\n",
       "      <td>333028</td>\n",
       "      <td>350563</td>\n",
       "      <td>53.048123</td>\n",
       "      <td>-3.000485</td>\n",
       "      <td>Wrexham</td>\n",
       "    </tr>\n",
       "    <tr>\n",
       "      <th>51327</th>\n",
       "      <td>597130</td>\n",
       "      <td>Wrexham Rail Sports &amp; Social Club</td>\n",
       "      <td>Sports And Social Club, 44 Brook Street, Wrexh...</td>\n",
       "      <td>LL13 7LU</td>\n",
       "      <td>333259</td>\n",
       "      <td>350213</td>\n",
       "      <td>53.044998</td>\n",
       "      <td>-2.996966</td>\n",
       "      <td>Wrexham</td>\n",
       "    </tr>\n",
       "    <tr>\n",
       "      <th>51328</th>\n",
       "      <td>597131</td>\n",
       "      <td>Wrexham Rugby Club</td>\n",
       "      <td>Wrexham Rugby Club Bryn Estyn Road, Wrexham, W...</td>\n",
       "      <td>LL13 9TY</td>\n",
       "      <td>335808</td>\n",
       "      <td>351078</td>\n",
       "      <td>53.053094</td>\n",
       "      <td>-2.959124</td>\n",
       "      <td>Wrexham</td>\n",
       "    </tr>\n",
       "    <tr>\n",
       "      <th>51329</th>\n",
       "      <td>597137</td>\n",
       "      <td>Y Tai</td>\n",
       "      <td>Y Tai Railway Road, Brymbo, Wrexham, Wrexham</td>\n",
       "      <td>LL11 5EA</td>\n",
       "      <td>329721</td>\n",
       "      <td>353785</td>\n",
       "      <td>53.076638</td>\n",
       "      <td>-3.050512</td>\n",
       "      <td>Wrexham</td>\n",
       "    </tr>\n",
       "  </tbody>\n",
       "</table>\n",
       "<p>51330 rows × 9 columns</p>\n",
       "</div>"
      ],
      "text/plain": [
       "           22                                Anchor Inn  \\\n",
       "0          36                        Ark Bar Restaurant   \n",
       "1          74                                 Black Boy   \n",
       "2          75                               Black Horse   \n",
       "3          76                                Black Lion   \n",
       "4          97                              Brewers Arms   \n",
       "...       ...                                       ...   \n",
       "51325  597119  Wrexham & District War Memorial Club Ltd   \n",
       "51326  597127                 Wrexham Lager Social Club   \n",
       "51327  597130         Wrexham Rail Sports & Social Club   \n",
       "51328  597131                        Wrexham Rugby Club   \n",
       "51329  597137                                     Y Tai   \n",
       "\n",
       "             Upper Street, Stratford St Mary, COLCHESTER   CO7 6LW  604749  \\\n",
       "0      Ark Bar And Restaurant, Cattawade Street, Bran...  CO11 1RH  610194   \n",
       "1      The Lady Elizabeth, 7 Market Hill, SUDBURY, Su...  CO10 2EA  587334   \n",
       "2            Lower Street, Stratford St Mary, COLCHESTER   CO7 6JS  622675   \n",
       "3                          Lion Road, Glemsford, SUDBURY  CO10 7RF  622675   \n",
       "4      The Brewers Arms, Bower House Tye, Polstead, C...   CO6 5BZ  598743   \n",
       "...                                                  ...       ...     ...   \n",
       "51325  Wrexham War Memorial Club Farndon Street, Wrex...  LL13 8DE  333909   \n",
       "51326                 1 - 3 Union Road, Wrexham, Wrexham  LL13 7SR  333028   \n",
       "51327  Sports And Social Club, 44 Brook Street, Wrexh...  LL13 7LU  333259   \n",
       "51328  Wrexham Rugby Club Bryn Estyn Road, Wrexham, W...  LL13 9TY  335808   \n",
       "51329       Y Tai Railway Road, Brymbo, Wrexham, Wrexham  LL11 5EA  329721   \n",
       "\n",
       "        234404  51.970379   0.979340  Babergh  \n",
       "0       233329  51.958698   1.057832  Babergh  \n",
       "1       241316  52.038595   0.729915  Babergh  \n",
       "2     -5527598         \\N         \\N  Babergh  \n",
       "3     -5527598         \\N         \\N  Babergh  \n",
       "4       240655  52.028694   0.895650  Babergh  \n",
       "...        ...        ...        ...      ...  \n",
       "51325   350438  53.047100  -2.987319  Wrexham  \n",
       "51326   350563  53.048123  -3.000485  Wrexham  \n",
       "51327   350213  53.044998  -2.996966  Wrexham  \n",
       "51328   351078  53.053094  -2.959124  Wrexham  \n",
       "51329   353785  53.076638  -3.050512  Wrexham  \n",
       "\n",
       "[51330 rows x 9 columns]"
      ]
     },
     "execution_count": 3,
     "metadata": {},
     "output_type": "execute_result"
    }
   ],
   "source": [
    "df"
   ]
  },
  {
   "cell_type": "code",
   "execution_count": 4,
   "id": "061d6da5",
   "metadata": {},
   "outputs": [],
   "source": [
    "df.columns = ['fsa_id','name','address','postcode','easting','northing','latitude','longitude','local_authority']"
   ]
  },
  {
   "cell_type": "code",
   "execution_count": 5,
   "id": "bb99ee82",
   "metadata": {},
   "outputs": [
    {
     "data": {
      "text/html": [
       "<div>\n",
       "<style scoped>\n",
       "    .dataframe tbody tr th:only-of-type {\n",
       "        vertical-align: middle;\n",
       "    }\n",
       "\n",
       "    .dataframe tbody tr th {\n",
       "        vertical-align: top;\n",
       "    }\n",
       "\n",
       "    .dataframe thead th {\n",
       "        text-align: right;\n",
       "    }\n",
       "</style>\n",
       "<table border=\"1\" class=\"dataframe\">\n",
       "  <thead>\n",
       "    <tr style=\"text-align: right;\">\n",
       "      <th></th>\n",
       "      <th>fsa_id</th>\n",
       "      <th>name</th>\n",
       "      <th>address</th>\n",
       "      <th>postcode</th>\n",
       "      <th>easting</th>\n",
       "      <th>northing</th>\n",
       "      <th>latitude</th>\n",
       "      <th>longitude</th>\n",
       "      <th>local_authority</th>\n",
       "    </tr>\n",
       "  </thead>\n",
       "  <tbody>\n",
       "    <tr>\n",
       "      <th>0</th>\n",
       "      <td>36</td>\n",
       "      <td>Ark Bar Restaurant</td>\n",
       "      <td>Ark Bar And Restaurant, Cattawade Street, Bran...</td>\n",
       "      <td>CO11 1RH</td>\n",
       "      <td>610194</td>\n",
       "      <td>233329</td>\n",
       "      <td>51.958698</td>\n",
       "      <td>1.057832</td>\n",
       "      <td>Babergh</td>\n",
       "    </tr>\n",
       "    <tr>\n",
       "      <th>1</th>\n",
       "      <td>74</td>\n",
       "      <td>Black Boy</td>\n",
       "      <td>The Lady Elizabeth, 7 Market Hill, SUDBURY, Su...</td>\n",
       "      <td>CO10 2EA</td>\n",
       "      <td>587334</td>\n",
       "      <td>241316</td>\n",
       "      <td>52.038595</td>\n",
       "      <td>0.729915</td>\n",
       "      <td>Babergh</td>\n",
       "    </tr>\n",
       "    <tr>\n",
       "      <th>2</th>\n",
       "      <td>75</td>\n",
       "      <td>Black Horse</td>\n",
       "      <td>Lower Street, Stratford St Mary, COLCHESTER</td>\n",
       "      <td>CO7 6JS</td>\n",
       "      <td>622675</td>\n",
       "      <td>-5527598</td>\n",
       "      <td>\\N</td>\n",
       "      <td>\\N</td>\n",
       "      <td>Babergh</td>\n",
       "    </tr>\n",
       "    <tr>\n",
       "      <th>3</th>\n",
       "      <td>76</td>\n",
       "      <td>Black Lion</td>\n",
       "      <td>Lion Road, Glemsford, SUDBURY</td>\n",
       "      <td>CO10 7RF</td>\n",
       "      <td>622675</td>\n",
       "      <td>-5527598</td>\n",
       "      <td>\\N</td>\n",
       "      <td>\\N</td>\n",
       "      <td>Babergh</td>\n",
       "    </tr>\n",
       "    <tr>\n",
       "      <th>4</th>\n",
       "      <td>97</td>\n",
       "      <td>Brewers Arms</td>\n",
       "      <td>The Brewers Arms, Bower House Tye, Polstead, C...</td>\n",
       "      <td>CO6 5BZ</td>\n",
       "      <td>598743</td>\n",
       "      <td>240655</td>\n",
       "      <td>52.028694</td>\n",
       "      <td>0.895650</td>\n",
       "      <td>Babergh</td>\n",
       "    </tr>\n",
       "  </tbody>\n",
       "</table>\n",
       "</div>"
      ],
      "text/plain": [
       "   fsa_id                name  \\\n",
       "0      36  Ark Bar Restaurant   \n",
       "1      74           Black Boy   \n",
       "2      75         Black Horse   \n",
       "3      76          Black Lion   \n",
       "4      97        Brewers Arms   \n",
       "\n",
       "                                             address  postcode  easting  \\\n",
       "0  Ark Bar And Restaurant, Cattawade Street, Bran...  CO11 1RH   610194   \n",
       "1  The Lady Elizabeth, 7 Market Hill, SUDBURY, Su...  CO10 2EA   587334   \n",
       "2        Lower Street, Stratford St Mary, COLCHESTER   CO7 6JS   622675   \n",
       "3                      Lion Road, Glemsford, SUDBURY  CO10 7RF   622675   \n",
       "4  The Brewers Arms, Bower House Tye, Polstead, C...   CO6 5BZ   598743   \n",
       "\n",
       "   northing   latitude longitude local_authority  \n",
       "0    233329  51.958698  1.057832         Babergh  \n",
       "1    241316  52.038595  0.729915         Babergh  \n",
       "2  -5527598         \\N        \\N         Babergh  \n",
       "3  -5527598         \\N        \\N         Babergh  \n",
       "4    240655  52.028694  0.895650         Babergh  "
      ]
     },
     "execution_count": 5,
     "metadata": {},
     "output_type": "execute_result"
    }
   ],
   "source": [
    "df.head()"
   ]
  },
  {
   "cell_type": "code",
   "execution_count": 6,
   "id": "2651f2f1",
   "metadata": {},
   "outputs": [
    {
     "name": "stdout",
     "output_type": "stream",
     "text": [
      "<class 'pandas.core.frame.DataFrame'>\n",
      "RangeIndex: 51330 entries, 0 to 51329\n",
      "Data columns (total 9 columns):\n",
      " #   Column           Non-Null Count  Dtype \n",
      "---  ------           --------------  ----- \n",
      " 0   fsa_id           51330 non-null  int64 \n",
      " 1   name             51330 non-null  object\n",
      " 2   address          51330 non-null  object\n",
      " 3   postcode         51330 non-null  object\n",
      " 4   easting          51330 non-null  int64 \n",
      " 5   northing         51330 non-null  int64 \n",
      " 6   latitude         51330 non-null  object\n",
      " 7   longitude        51330 non-null  object\n",
      " 8   local_authority  51330 non-null  object\n",
      "dtypes: int64(3), object(6)\n",
      "memory usage: 3.5+ MB\n"
     ]
    }
   ],
   "source": [
    "df.info()"
   ]
  },
  {
   "cell_type": "code",
   "execution_count": 7,
   "id": "562a70cf",
   "metadata": {
    "scrolled": true
   },
   "outputs": [
    {
     "data": {
      "text/plain": [
       "fsa_id             0\n",
       "name               0\n",
       "address            0\n",
       "postcode           0\n",
       "easting            0\n",
       "northing           0\n",
       "latitude           0\n",
       "longitude          0\n",
       "local_authority    0\n",
       "dtype: int64"
      ]
     },
     "execution_count": 7,
     "metadata": {},
     "output_type": "execute_result"
    }
   ],
   "source": [
    "df.isnull().sum()"
   ]
  },
  {
   "cell_type": "code",
   "execution_count": 8,
   "id": "ae2099cb",
   "metadata": {},
   "outputs": [
    {
     "data": {
      "text/plain": [
       "0        51.958698\n",
       "1        52.038595\n",
       "2               \\N\n",
       "3               \\N\n",
       "4        52.028694\n",
       "           ...    \n",
       "51325    53.047100\n",
       "51326    53.048123\n",
       "51327    53.044998\n",
       "51328    53.053094\n",
       "51329    53.076638\n",
       "Name: latitude, Length: 51330, dtype: object"
      ]
     },
     "execution_count": 8,
     "metadata": {},
     "output_type": "execute_result"
    }
   ],
   "source": [
    "df['latitude']"
   ]
  },
  {
   "cell_type": "code",
   "execution_count": 9,
   "id": "fdc88c7a",
   "metadata": {},
   "outputs": [
    {
     "data": {
      "text/plain": [
       "0         1.057832\n",
       "1         0.729915\n",
       "2               \\N\n",
       "3               \\N\n",
       "4         0.895650\n",
       "           ...    \n",
       "51325    -2.987319\n",
       "51326    -3.000485\n",
       "51327    -2.996966\n",
       "51328    -2.959124\n",
       "51329    -3.050512\n",
       "Name: longitude, Length: 51330, dtype: object"
      ]
     },
     "execution_count": 9,
     "metadata": {},
     "output_type": "execute_result"
    }
   ],
   "source": [
    "df['longitude']"
   ]
  },
  {
   "cell_type": "code",
   "execution_count": 10,
   "id": "b4abb2f5",
   "metadata": {},
   "outputs": [],
   "source": [
    "df.replace(r'\\N', np.nan, inplace=True)"
   ]
  },
  {
   "cell_type": "code",
   "execution_count": 11,
   "id": "750a5945",
   "metadata": {},
   "outputs": [
    {
     "data": {
      "text/plain": [
       "fsa_id               0\n",
       "name                 0\n",
       "address              0\n",
       "postcode             0\n",
       "easting              0\n",
       "northing             0\n",
       "latitude           767\n",
       "longitude          767\n",
       "local_authority      0\n",
       "dtype: int64"
      ]
     },
     "execution_count": 11,
     "metadata": {},
     "output_type": "execute_result"
    }
   ],
   "source": [
    "df.isnull().sum()"
   ]
  },
  {
   "cell_type": "code",
   "execution_count": 12,
   "id": "b76864ed",
   "metadata": {},
   "outputs": [],
   "source": [
    "df['longitude'] = df['longitude'].astype('float')"
   ]
  },
  {
   "cell_type": "code",
   "execution_count": 13,
   "id": "bac33132",
   "metadata": {},
   "outputs": [],
   "source": [
    "df['latitude'] = df['latitude'].astype('float')"
   ]
  },
  {
   "cell_type": "code",
   "execution_count": 14,
   "id": "5fed0a0a",
   "metadata": {},
   "outputs": [],
   "source": [
    "df.dropna(inplace=True)"
   ]
  },
  {
   "cell_type": "code",
   "execution_count": 15,
   "id": "aeaf1a52",
   "metadata": {},
   "outputs": [
    {
     "name": "stdout",
     "output_type": "stream",
     "text": [
      "<class 'pandas.core.frame.DataFrame'>\n",
      "Int64Index: 50563 entries, 0 to 51329\n",
      "Data columns (total 9 columns):\n",
      " #   Column           Non-Null Count  Dtype  \n",
      "---  ------           --------------  -----  \n",
      " 0   fsa_id           50563 non-null  int64  \n",
      " 1   name             50563 non-null  object \n",
      " 2   address          50563 non-null  object \n",
      " 3   postcode         50563 non-null  object \n",
      " 4   easting          50563 non-null  int64  \n",
      " 5   northing         50563 non-null  int64  \n",
      " 6   latitude         50563 non-null  float64\n",
      " 7   longitude        50563 non-null  float64\n",
      " 8   local_authority  50563 non-null  object \n",
      "dtypes: float64(2), int64(3), object(4)\n",
      "memory usage: 3.9+ MB\n"
     ]
    }
   ],
   "source": [
    "df.info()"
   ]
  },
  {
   "cell_type": "code",
   "execution_count": 16,
   "id": "834a2c4d",
   "metadata": {},
   "outputs": [
    {
     "data": {
      "text/plain": [
       "fsa_id             0\n",
       "name               0\n",
       "address            0\n",
       "postcode           0\n",
       "easting            0\n",
       "northing           0\n",
       "latitude           0\n",
       "longitude          0\n",
       "local_authority    0\n",
       "dtype: int64"
      ]
     },
     "execution_count": 16,
     "metadata": {},
     "output_type": "execute_result"
    }
   ],
   "source": [
    "df.isnull().sum()"
   ]
  },
  {
   "cell_type": "code",
   "execution_count": 18,
   "id": "27384b4d",
   "metadata": {},
   "outputs": [],
   "source": [
    "#Saving cleaned csv file\n",
    "df.to_csv('cleaned_data.csv', index=False)"
   ]
  },
  {
   "cell_type": "code",
   "execution_count": null,
   "id": "903b8f25",
   "metadata": {},
   "outputs": [],
   "source": []
  }
 ],
 "metadata": {
  "kernelspec": {
   "display_name": "Python 3 (ipykernel)",
   "language": "python",
   "name": "python3"
  },
  "language_info": {
   "codemirror_mode": {
    "name": "ipython",
    "version": 3
   },
   "file_extension": ".py",
   "mimetype": "text/x-python",
   "name": "python",
   "nbconvert_exporter": "python",
   "pygments_lexer": "ipython3",
   "version": "3.9.13"
  }
 },
 "nbformat": 4,
 "nbformat_minor": 5
}
